{
 "cells": [
  {
   "cell_type": "markdown",
   "id": "3e155781-24a1-4b40-8f21-a0e1e64794d1",
   "metadata": {},
   "source": [
    "# Alex's Notebook\n",
    "## to do"
   ]
  },
  {
   "cell_type": "markdown",
   "id": "983617a5-156b-440f-a592-1fd699be2173",
   "metadata": {},
   "source": [
    "# TEST"
   ]
  },
  {
   "cell_type": "markdown",
   "id": "95163e2f-5f2f-4067-80d0-fa414b491f45",
   "metadata": {},
   "source": []
  },
  {
   "cell_type": "code",
   "execution_count": null,
   "id": "fc18d0c7-74d6-43ac-a963-3156af3c8b03",
   "metadata": {},
   "outputs": [],
   "source": []
  },
  {
   "cell_type": "code",
   "execution_count": null,
   "id": "01fc87eb-0b0f-4906-ae03-c8ef6948eb5c",
   "metadata": {},
   "outputs": [],
   "source": []
  },
  {
   "cell_type": "code",
   "execution_count": null,
   "id": "6f67a0ca-a8aa-4347-8a4f-dc117dc36ac6",
   "metadata": {},
   "outputs": [],
   "source": []
  }
 ],
 "metadata": {
  "kernelspec": {
   "display_name": "Python 3 (ipykernel)",
   "language": "python",
   "name": "python3"
  },
  "language_info": {
   "codemirror_mode": {
    "name": "ipython",
    "version": 3
   },
   "file_extension": ".py",
   "mimetype": "text/x-python",
   "name": "python",
   "nbconvert_exporter": "python",
   "pygments_lexer": "ipython3",
   "version": "3.12.7"
  }
 },
 "nbformat": 4,
 "nbformat_minor": 5
}
